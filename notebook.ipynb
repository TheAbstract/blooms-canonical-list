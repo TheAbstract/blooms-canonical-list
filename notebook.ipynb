{
 "cells": [
  {
   "cell_type": "markdown",
   "id": "159f3c44",
   "metadata": {},
   "source": [
    "# a brief look at the data"
   ]
  },
  {
   "cell_type": "code",
   "execution_count": 1,
   "id": "a53f032d",
   "metadata": {},
   "outputs": [],
   "source": [
    "import pandas as pd\n",
    "import seaborn as sns\n",
    "sns.set_theme()"
   ]
  },
  {
   "cell_type": "code",
   "execution_count": 2,
   "id": "751021ef",
   "metadata": {},
   "outputs": [],
   "source": [
    "books = pd.read_csv('books.csv')"
   ]
  },
  {
   "cell_type": "code",
   "execution_count": 3,
   "id": "51d214e5",
   "metadata": {},
   "outputs": [
    {
     "data": {
      "text/html": [
       "<div>\n",
       "<style scoped>\n",
       "    .dataframe tbody tr th:only-of-type {\n",
       "        vertical-align: middle;\n",
       "    }\n",
       "\n",
       "    .dataframe tbody tr th {\n",
       "        vertical-align: top;\n",
       "    }\n",
       "\n",
       "    .dataframe thead th {\n",
       "        text-align: right;\n",
       "    }\n",
       "</style>\n",
       "<table border=\"1\" class=\"dataframe\">\n",
       "  <thead>\n",
       "    <tr style=\"text-align: right;\">\n",
       "      <th></th>\n",
       "      <th>Author</th>\n",
       "      <th>Work</th>\n",
       "      <th>Nation</th>\n",
       "      <th>Age</th>\n",
       "    </tr>\n",
       "  </thead>\n",
       "  <tbody>\n",
       "    <tr>\n",
       "      <th>0</th>\n",
       "      <td>Unknown</td>\n",
       "      <td>Gilgamesh</td>\n",
       "      <td>The Ancient Near East</td>\n",
       "      <td>The Theocratic Age (2000 BCE-1321 CE)</td>\n",
       "    </tr>\n",
       "    <tr>\n",
       "      <th>1</th>\n",
       "      <td>Unknown</td>\n",
       "      <td>Egyptian Book of the Dead</td>\n",
       "      <td>The Ancient Near East</td>\n",
       "      <td>The Theocratic Age (2000 BCE-1321 CE)</td>\n",
       "    </tr>\n",
       "    <tr>\n",
       "      <th>2</th>\n",
       "      <td>Unknown</td>\n",
       "      <td>Holy Bible (King James Version)</td>\n",
       "      <td>The Ancient Near East</td>\n",
       "      <td>The Theocratic Age (2000 BCE-1321 CE)</td>\n",
       "    </tr>\n",
       "    <tr>\n",
       "      <th>3</th>\n",
       "      <td>Unknown</td>\n",
       "      <td>The Apocrypha</td>\n",
       "      <td>The Ancient Near East</td>\n",
       "      <td>The Theocratic Age (2000 BCE-1321 CE)</td>\n",
       "    </tr>\n",
       "    <tr>\n",
       "      <th>4</th>\n",
       "      <td>Unknown</td>\n",
       "      <td>Sayings of the Fathers (Pirke Aboth)</td>\n",
       "      <td>The Ancient Near East</td>\n",
       "      <td>The Theocratic Age (2000 BCE-1321 CE)</td>\n",
       "    </tr>\n",
       "  </tbody>\n",
       "</table>\n",
       "</div>"
      ],
      "text/plain": [
       "    Author                                  Work                 Nation  \\\n",
       "0  Unknown                             Gilgamesh  The Ancient Near East   \n",
       "1  Unknown             Egyptian Book of the Dead  The Ancient Near East   \n",
       "2  Unknown       Holy Bible (King James Version)  The Ancient Near East   \n",
       "3  Unknown                         The Apocrypha  The Ancient Near East   \n",
       "4  Unknown  Sayings of the Fathers (Pirke Aboth)  The Ancient Near East   \n",
       "\n",
       "                                     Age  \n",
       "0  The Theocratic Age (2000 BCE-1321 CE)  \n",
       "1  The Theocratic Age (2000 BCE-1321 CE)  \n",
       "2  The Theocratic Age (2000 BCE-1321 CE)  \n",
       "3  The Theocratic Age (2000 BCE-1321 CE)  \n",
       "4  The Theocratic Age (2000 BCE-1321 CE)  "
      ]
     },
     "execution_count": 3,
     "metadata": {},
     "output_type": "execute_result"
    }
   ],
   "source": [
    "books.head()"
   ]
  },
  {
   "cell_type": "markdown",
   "id": "d91e86c9",
   "metadata": {},
   "source": [
    "Lets take a look at some random rows from the dataset."
   ]
  },
  {
   "cell_type": "code",
   "execution_count": 4,
   "id": "9090cdb5",
   "metadata": {},
   "outputs": [
    {
     "data": {
      "text/html": [
       "<div>\n",
       "<style scoped>\n",
       "    .dataframe tbody tr th:only-of-type {\n",
       "        vertical-align: middle;\n",
       "    }\n",
       "\n",
       "    .dataframe tbody tr th {\n",
       "        vertical-align: top;\n",
       "    }\n",
       "\n",
       "    .dataframe thead th {\n",
       "        text-align: right;\n",
       "    }\n",
       "</style>\n",
       "<table border=\"1\" class=\"dataframe\">\n",
       "  <thead>\n",
       "    <tr style=\"text-align: right;\">\n",
       "      <th></th>\n",
       "      <th>Author</th>\n",
       "      <th>Work</th>\n",
       "      <th>Nation</th>\n",
       "      <th>Age</th>\n",
       "    </tr>\n",
       "  </thead>\n",
       "  <tbody>\n",
       "    <tr>\n",
       "      <th>704</th>\n",
       "      <td>Alberto Moravia</td>\n",
       "      <td>1934</td>\n",
       "      <td>Italy</td>\n",
       "      <td>The Chaotic Age (20th Century)</td>\n",
       "    </tr>\n",
       "    <tr>\n",
       "      <th>240</th>\n",
       "      <td>Henry Fielding</td>\n",
       "      <td>The History of Tom Jones, a Foundling</td>\n",
       "      <td>Great Britain</td>\n",
       "      <td>The Aristocratic Age (1321-1832)</td>\n",
       "    </tr>\n",
       "    <tr>\n",
       "      <th>1245</th>\n",
       "      <td>Gertrude Stein, 1874–1946</td>\n",
       "      <td>The Making of Americans</td>\n",
       "      <td>The United States</td>\n",
       "      <td>The Chaotic Age (20th Century)</td>\n",
       "    </tr>\n",
       "    <tr>\n",
       "      <th>1479</th>\n",
       "      <td>Philip Levine</td>\n",
       "      <td>Selected Poems</td>\n",
       "      <td>The United States</td>\n",
       "      <td>The Chaotic Age (20th Century)</td>\n",
       "    </tr>\n",
       "    <tr>\n",
       "      <th>930</th>\n",
       "      <td>Evelyn Waugh</td>\n",
       "      <td>Scoop</td>\n",
       "      <td>Great Britain and Ireland</td>\n",
       "      <td>The Chaotic Age (20th Century)</td>\n",
       "    </tr>\n",
       "  </tbody>\n",
       "</table>\n",
       "</div>"
      ],
      "text/plain": [
       "                         Author                                   Work  \\\n",
       "704             Alberto Moravia                                   1934   \n",
       "240              Henry Fielding  The History of Tom Jones, a Foundling   \n",
       "1245  Gertrude Stein, 1874–1946                The Making of Americans   \n",
       "1479              Philip Levine                         Selected Poems   \n",
       "930                Evelyn Waugh                                  Scoop   \n",
       "\n",
       "                         Nation                               Age  \n",
       "704                       Italy    The Chaotic Age (20th Century)  \n",
       "240               Great Britain  The Aristocratic Age (1321-1832)  \n",
       "1245          The United States    The Chaotic Age (20th Century)  \n",
       "1479          The United States    The Chaotic Age (20th Century)  \n",
       "930   Great Britain and Ireland    The Chaotic Age (20th Century)  "
      ]
     },
     "execution_count": 4,
     "metadata": {},
     "output_type": "execute_result"
    }
   ],
   "source": [
    "books.sample(5)"
   ]
  },
  {
   "cell_type": "markdown",
   "id": "5a8db813",
   "metadata": {},
   "source": [
    "As we saw from the `head` of the data there are some works with unkown authors. How many books here have unkown authors?"
   ]
  },
  {
   "cell_type": "code",
   "execution_count": 5,
   "id": "aaec6277",
   "metadata": {},
   "outputs": [
    {
     "data": {
      "text/plain": [
       "12"
      ]
     },
     "execution_count": 5,
     "metadata": {},
     "output_type": "execute_result"
    }
   ],
   "source": [
    "books.Author.value_counts()['Unknown']"
   ]
  },
  {
   "cell_type": "markdown",
   "id": "697c1433",
   "metadata": {},
   "source": [
    "Harold Bloom divided the books into the following ages or period of history:\n",
    "- The Theocratic Age (2000 BCE-1321 CE)\n",
    "- The Aristocratic Age (1321-1832)\n",
    "- The Democratic Age (1832-1900)\n",
    "- The Chaotic Age (20th Century)\n",
    "\n",
    "We should expect books with unkown authurs to be from the earliest of these periods."
   ]
  },
  {
   "cell_type": "code",
   "execution_count": 6,
   "id": "3443a63b",
   "metadata": {},
   "outputs": [
    {
     "data": {
      "text/html": [
       "<div>\n",
       "<style scoped>\n",
       "    .dataframe tbody tr th:only-of-type {\n",
       "        vertical-align: middle;\n",
       "    }\n",
       "\n",
       "    .dataframe tbody tr th {\n",
       "        vertical-align: top;\n",
       "    }\n",
       "\n",
       "    .dataframe thead th {\n",
       "        text-align: right;\n",
       "    }\n",
       "</style>\n",
       "<table border=\"1\" class=\"dataframe\">\n",
       "  <thead>\n",
       "    <tr style=\"text-align: right;\">\n",
       "      <th></th>\n",
       "      <th>Author</th>\n",
       "      <th>Work</th>\n",
       "      <th>Nation</th>\n",
       "      <th>Age</th>\n",
       "    </tr>\n",
       "  </thead>\n",
       "  <tbody>\n",
       "    <tr>\n",
       "      <th>0</th>\n",
       "      <td>Unknown</td>\n",
       "      <td>Gilgamesh</td>\n",
       "      <td>The Ancient Near East</td>\n",
       "      <td>The Theocratic Age (2000 BCE-1321 CE)</td>\n",
       "    </tr>\n",
       "    <tr>\n",
       "      <th>1</th>\n",
       "      <td>Unknown</td>\n",
       "      <td>Egyptian Book of the Dead</td>\n",
       "      <td>The Ancient Near East</td>\n",
       "      <td>The Theocratic Age (2000 BCE-1321 CE)</td>\n",
       "    </tr>\n",
       "    <tr>\n",
       "      <th>2</th>\n",
       "      <td>Unknown</td>\n",
       "      <td>Holy Bible (King James Version)</td>\n",
       "      <td>The Ancient Near East</td>\n",
       "      <td>The Theocratic Age (2000 BCE-1321 CE)</td>\n",
       "    </tr>\n",
       "    <tr>\n",
       "      <th>3</th>\n",
       "      <td>Unknown</td>\n",
       "      <td>The Apocrypha</td>\n",
       "      <td>The Ancient Near East</td>\n",
       "      <td>The Theocratic Age (2000 BCE-1321 CE)</td>\n",
       "    </tr>\n",
       "    <tr>\n",
       "      <th>4</th>\n",
       "      <td>Unknown</td>\n",
       "      <td>Sayings of the Fathers (Pirke Aboth)</td>\n",
       "      <td>The Ancient Near East</td>\n",
       "      <td>The Theocratic Age (2000 BCE-1321 CE)</td>\n",
       "    </tr>\n",
       "    <tr>\n",
       "      <th>5</th>\n",
       "      <td>Unknown</td>\n",
       "      <td>Mahabharata</td>\n",
       "      <td>Ancient India (Sanskrit)</td>\n",
       "      <td>The Theocratic Age (2000 BCE-1321 CE)</td>\n",
       "    </tr>\n",
       "    <tr>\n",
       "      <th>6</th>\n",
       "      <td>Unknown</td>\n",
       "      <td>Bhagavad-Gita</td>\n",
       "      <td>Ancient India (Sanskrit)</td>\n",
       "      <td>The Theocratic Age (2000 BCE-1321 CE)</td>\n",
       "    </tr>\n",
       "    <tr>\n",
       "      <th>7</th>\n",
       "      <td>Unknown</td>\n",
       "      <td>Ramayana</td>\n",
       "      <td>Ancient India (Sanskrit)</td>\n",
       "      <td>The Theocratic Age (2000 BCE-1321 CE)</td>\n",
       "    </tr>\n",
       "    <tr>\n",
       "      <th>86</th>\n",
       "      <td>Unknown</td>\n",
       "      <td>The Koran (Al-Qur'an)</td>\n",
       "      <td>The Middle Ages: Latin, Arabic, and the Vernac...</td>\n",
       "      <td>The Theocratic Age (2000 BCE-1321 CE)</td>\n",
       "    </tr>\n",
       "    <tr>\n",
       "      <th>87</th>\n",
       "      <td>Unknown</td>\n",
       "      <td>The Book of the Thousand Nights and One Nights</td>\n",
       "      <td>The Middle Ages: Latin, Arabic, and the Vernac...</td>\n",
       "      <td>The Theocratic Age (2000 BCE-1321 CE)</td>\n",
       "    </tr>\n",
       "    <tr>\n",
       "      <th>88</th>\n",
       "      <td>Unknown</td>\n",
       "      <td>The Poetic Edda</td>\n",
       "      <td>The Middle Ages: Latin, Arabic, and the Vernac...</td>\n",
       "      <td>The Theocratic Age (2000 BCE-1321 CE)</td>\n",
       "    </tr>\n",
       "    <tr>\n",
       "      <th>92</th>\n",
       "      <td>Unknown</td>\n",
       "      <td>Beowulf</td>\n",
       "      <td>The Middle Ages: Latin, Arabic, and the Vernac...</td>\n",
       "      <td>The Theocratic Age (2000 BCE-1321 CE)</td>\n",
       "    </tr>\n",
       "  </tbody>\n",
       "</table>\n",
       "</div>"
      ],
      "text/plain": [
       "     Author                                            Work  \\\n",
       "0   Unknown                                       Gilgamesh   \n",
       "1   Unknown                       Egyptian Book of the Dead   \n",
       "2   Unknown                 Holy Bible (King James Version)   \n",
       "3   Unknown                                   The Apocrypha   \n",
       "4   Unknown            Sayings of the Fathers (Pirke Aboth)   \n",
       "5   Unknown                                     Mahabharata   \n",
       "6   Unknown                                   Bhagavad-Gita   \n",
       "7   Unknown                                        Ramayana   \n",
       "86  Unknown                           The Koran (Al-Qur'an)   \n",
       "87  Unknown  The Book of the Thousand Nights and One Nights   \n",
       "88  Unknown                                 The Poetic Edda   \n",
       "92  Unknown                                         Beowulf   \n",
       "\n",
       "                                               Nation  \\\n",
       "0                               The Ancient Near East   \n",
       "1                               The Ancient Near East   \n",
       "2                               The Ancient Near East   \n",
       "3                               The Ancient Near East   \n",
       "4                               The Ancient Near East   \n",
       "5                            Ancient India (Sanskrit)   \n",
       "6                            Ancient India (Sanskrit)   \n",
       "7                            Ancient India (Sanskrit)   \n",
       "86  The Middle Ages: Latin, Arabic, and the Vernac...   \n",
       "87  The Middle Ages: Latin, Arabic, and the Vernac...   \n",
       "88  The Middle Ages: Latin, Arabic, and the Vernac...   \n",
       "92  The Middle Ages: Latin, Arabic, and the Vernac...   \n",
       "\n",
       "                                      Age  \n",
       "0   The Theocratic Age (2000 BCE-1321 CE)  \n",
       "1   The Theocratic Age (2000 BCE-1321 CE)  \n",
       "2   The Theocratic Age (2000 BCE-1321 CE)  \n",
       "3   The Theocratic Age (2000 BCE-1321 CE)  \n",
       "4   The Theocratic Age (2000 BCE-1321 CE)  \n",
       "5   The Theocratic Age (2000 BCE-1321 CE)  \n",
       "6   The Theocratic Age (2000 BCE-1321 CE)  \n",
       "7   The Theocratic Age (2000 BCE-1321 CE)  \n",
       "86  The Theocratic Age (2000 BCE-1321 CE)  \n",
       "87  The Theocratic Age (2000 BCE-1321 CE)  \n",
       "88  The Theocratic Age (2000 BCE-1321 CE)  \n",
       "92  The Theocratic Age (2000 BCE-1321 CE)  "
      ]
     },
     "execution_count": 6,
     "metadata": {},
     "output_type": "execute_result"
    }
   ],
   "source": [
    "books[books.Author == 'Unknown']"
   ]
  },
  {
   "cell_type": "markdown",
   "id": "1d2ecc8e",
   "metadata": {},
   "source": [
    "All of them are from the `The Theocratic Age (2000 BCE-1321 CE)` and unsuprisingly most of them are some form of mythology or religious text. \n",
    "\n",
    "Looking at the count of books from each age we see that most of them are from the 20th century. This probably just reflects human bias and the fact that this is a catalog put together for a modern audiance. \n",
    "\n",
    "Unlike in the sciences or with techlonolgy, the arts do not necessaryly progress over time. What I mean is that it isn't the case that a piece of art, say a poem, from a more recent age is necessaryliy better than an older one. While clearly a modern computer is better than one from the previous century."
   ]
  },
  {
   "cell_type": "code",
   "execution_count": 7,
   "id": "5a4208de",
   "metadata": {},
   "outputs": [
    {
     "data": {
      "image/png": "[encoded data removed]",
      "text/plain": [
       "<Figure size 750x500 with 1 Axes>"
      ]
     },
     "metadata": {},
     "output_type": "display_data"
    }
   ],
   "source": [
    "sns.catplot(books, y='Age', kind='count', aspect=1.5);"
   ]
  },
  {
   "cell_type": "markdown",
   "id": "d99f03e3",
   "metadata": {},
   "source": [
    "Ignoring books with unknown authors, here are the ten authors with the most books in the list."
   ]
  },
  {
   "cell_type": "code",
   "execution_count": 8,
   "id": "ee82805c",
   "metadata": {},
   "outputs": [
    {
     "data": {
      "text/html": [
       "<div>\n",
       "<style scoped>\n",
       "    .dataframe tbody tr th:only-of-type {\n",
       "        vertical-align: middle;\n",
       "    }\n",
       "\n",
       "    .dataframe tbody tr th {\n",
       "        vertical-align: top;\n",
       "    }\n",
       "\n",
       "    .dataframe thead th {\n",
       "        text-align: right;\n",
       "    }\n",
       "</style>\n",
       "<table border=\"1\" class=\"dataframe\">\n",
       "  <thead>\n",
       "    <tr style=\"text-align: right;\">\n",
       "      <th></th>\n",
       "      <th>Authors</th>\n",
       "      <th>Number of books</th>\n",
       "    </tr>\n",
       "  </thead>\n",
       "  <tbody>\n",
       "    <tr>\n",
       "      <th>0</th>\n",
       "      <td>Charles Dickens</td>\n",
       "      <td>14</td>\n",
       "    </tr>\n",
       "    <tr>\n",
       "      <th>1</th>\n",
       "      <td>Johann Wolfgang von Goethe</td>\n",
       "      <td>14</td>\n",
       "    </tr>\n",
       "    <tr>\n",
       "      <th>2</th>\n",
       "      <td>Euripides</td>\n",
       "      <td>12</td>\n",
       "    </tr>\n",
       "    <tr>\n",
       "      <th>3</th>\n",
       "      <td>Molière</td>\n",
       "      <td>10</td>\n",
       "    </tr>\n",
       "    <tr>\n",
       "      <th>4</th>\n",
       "      <td>William Faulkner</td>\n",
       "      <td>8</td>\n",
       "    </tr>\n",
       "    <tr>\n",
       "      <th>5</th>\n",
       "      <td>Henry James</td>\n",
       "      <td>8</td>\n",
       "    </tr>\n",
       "    <tr>\n",
       "      <th>6</th>\n",
       "      <td>Thomas Hardy, 1840-1928</td>\n",
       "      <td>8</td>\n",
       "    </tr>\n",
       "    <tr>\n",
       "      <th>7</th>\n",
       "      <td>Honoré de Balzac</td>\n",
       "      <td>8</td>\n",
       "    </tr>\n",
       "    <tr>\n",
       "      <th>8</th>\n",
       "      <td>Henrik Ibsen</td>\n",
       "      <td>7</td>\n",
       "    </tr>\n",
       "    <tr>\n",
       "      <th>9</th>\n",
       "      <td>Franz Kafka, 1883–1924</td>\n",
       "      <td>7</td>\n",
       "    </tr>\n",
       "  </tbody>\n",
       "</table>\n",
       "</div>"
      ],
      "text/plain": [
       "                      Authors  Number of books\n",
       "0             Charles Dickens               14\n",
       "1  Johann Wolfgang von Goethe               14\n",
       "2                   Euripides               12\n",
       "3                     Molière               10\n",
       "4            William Faulkner                8\n",
       "5                 Henry James                8\n",
       "6     Thomas Hardy, 1840-1928                8\n",
       "7            Honoré de Balzac                8\n",
       "8                Henrik Ibsen                7\n",
       "9      Franz Kafka, 1883–1924                7"
      ]
     },
     "execution_count": 8,
     "metadata": {},
     "output_type": "execute_result"
    }
   ],
   "source": [
    "top = books.Author.value_counts().to_dict()\n",
    "top.pop('Unknown')\n",
    "pd.DataFrame(top.items(), columns=['Authors', 'Number of books']).head(10)"
   ]
  }
 ],
 "metadata": {
  "kernelspec": {
   "display_name": "Python 3 (ipykernel)",
   "language": "python",
   "name": "python3"
  },
  "language_info": {
   "codemirror_mode": {
    "name": "ipython",
    "version": 3
   },
   "file_extension": ".py",
   "mimetype": "text/x-python",
   "name": "python",
   "nbconvert_exporter": "python",
   "pygments_lexer": "ipython3",
   "version": "3.10.9"
  }
 },
 "nbformat": 4,
 "nbformat_minor": 5
}
